{
 "cells": [
  {
   "cell_type": "code",
   "execution_count": null,
   "id": "e66ce59f",
   "metadata": {},
   "outputs": [],
   "source": [
    "##https://blog.csdn.net/pipisorry/article/details/41957763"
   ]
  },
  {
   "cell_type": "markdown",
   "id": "c1275a0b",
   "metadata": {},
   "source": [
    "# 用途"
   ]
  },
  {
   "cell_type": "code",
   "execution_count": 1,
   "id": "5e073333",
   "metadata": {},
   "outputs": [
    {
     "name": "stdout",
     "output_type": "stream",
     "text": [
      "idf:  [('am', 2.386294361119891), ('and', 2.386294361119891), ('apple', 3.0794415416798357), ('are', 3.0794415416798357), ('be', 2.6739764335716716), ('bob', 2.386294361119891), ('book', 3.0794415416798357), ('bring', 3.0794415416798357), ('but', 3.0794415416798357), ('care', 3.0794415416798357), ('cat', 2.6739764335716716), ('coffee', 2.6739764335716716), ('cup', 3.0794415416798357), ('day', 2.386294361119891), ('do', 2.6739764335716716), ('dog', 2.6739764335716716), ('good', 2.386294361119891), ('happy', 3.0794415416798357), ('hard', 3.0794415416798357), ('have', 3.0794415416798357), ('here', 2.6739764335716716), ('is', 1.9808292530117262), ('it', 1.9808292530117262), ('kitty', 2.6739764335716716), ('like', 1.9808292530117262), ('morning', 3.0794415416798357), ('not', 2.6739764335716716), ('on', 3.0794415416798357), ('party', 3.0794415416798357), ('stay', 3.0794415416798357), ('study', 3.0794415416798357), ('sunny', 3.0794415416798357), ('that', 3.0794415416798357), ('the', 3.0794415416798357), ('there', 3.0794415416798357), ('this', 3.0794415416798357), ('time', 3.0794415416798357), ('to', 2.6739764335716716), ('today', 2.386294361119891), ('tomorrow', 3.0794415416798357), ('tree', 3.0794415416798357), ('who', 3.0794415416798357), ('will', 3.0794415416798357), ('your', 3.0794415416798357)]\n",
      "\n",
      "\n",
      "v2i:  {'it': 22, 'is': 21, 'good': 16, 'day': 13, 'like': 24, 'to': 37, 'stay': 29, 'here': 20, 'am': 0, 'happy': 17, 'be': 4, 'bob': 5, 'sunny': 31, 'today': 38, 'have': 19, 'party': 28, 'dog': 15, 'and': 1, 'that': 32, 'cat': 10, 'there': 34, 'are': 3, 'on': 27, 'the': 33, 'tree': 40, 'study': 30, 'hard': 18, 'this': 35, 'morning': 25, 'tomorrow': 39, 'will': 42, 'coffee': 11, 'book': 6, 'apple': 2, 'do': 14, 'not': 26, 'kitty': 23, 'care': 9, 'who': 41, 'but': 8, 'time': 36, 'bring': 7, 'your': 43, 'cup': 12}\n"
     ]
    },
    {
     "name": "stderr",
     "output_type": "stream",
     "text": [
      "/Users/ray/opt/anaconda3/lib/python3.9/site-packages/sklearn/utils/deprecation.py:87: FutureWarning: Function get_feature_names is deprecated; get_feature_names is deprecated in 1.0 and will be removed in 1.2. Please use get_feature_names_out instead.\n",
      "  warnings.warn(msg, category=FutureWarning)\n"
     ]
    }
   ],
   "source": [
    "import os\n",
    "from sklearn.feature_extraction.text import TfidfVectorizer\n",
    "from sklearn.metrics.pairwise import cosine_similarity\n",
    "\n",
    "\n",
    "docs = [\n",
    "    \"it is a good day, I like to stay here\",\n",
    "    \"I am happy to be here\",\n",
    "    \"I am bob\",\n",
    "    \"it is sunny today\",\n",
    "    \"I have a party today\",\n",
    "    \"it is a dog and that is a cat\",\n",
    "    \"there are dog and cat on the tree\",\n",
    "    \"I study hard this morning\",\n",
    "    \"today is a good day\",\n",
    "    \"tomorrow will be a good day\",\n",
    "    \"I like coffee, I like book and I like apple\",\n",
    "    \"I do not like it\",\n",
    "    \"I am kitty, I like bob\",\n",
    "    \"I do not care who like bob, but I like kitty\",\n",
    "    \"It is coffee time, bring your cup\",\n",
    "]\n",
    "\n",
    "vectorizer = TfidfVectorizer()\n",
    "tf_idf = vectorizer.fit_transform(docs)\n",
    "print(\"idf: \", [(n, idf) for idf, n in zip(vectorizer.idf_, vectorizer.get_feature_names())])\n",
    "print(\"\\n\")\n",
    "print(\"v2i: \", vectorizer.vocabulary_)"
   ]
  },
  {
   "cell_type": "markdown",
   "id": "7da8db3b",
   "metadata": {},
   "source": [
    "## 文档相似性"
   ]
  },
  {
   "cell_type": "code",
   "execution_count": 2,
   "id": "085468fb",
   "metadata": {},
   "outputs": [
    {
     "name": "stdout",
     "output_type": "stream",
     "text": [
      "\n",
      "top 3 docs for 'I get a coffee cup':\n",
      "['It is coffee time, bring your cup', 'I like coffee, I like book and I like apple', 'I do not care who like bob, but I like kitty']\n"
     ]
    }
   ],
   "source": [
    "q = \"I get a coffee cup\"\n",
    "qtf_idf = vectorizer.transform([q])\n",
    "res = cosine_similarity(tf_idf, qtf_idf)\n",
    "res = res.ravel().argsort()[-3:]  #排序\n",
    "print(\"\\ntop 3 docs for '{}':\\n{}\".format(q, [docs[i] for i in res[::-1]]))"
   ]
  },
  {
   "cell_type": "markdown",
   "id": "60b5ad59",
   "metadata": {},
   "source": [
    "## 文章-词语"
   ]
  },
  {
   "cell_type": "code",
   "execution_count": 3,
   "id": "0a1e44e3",
   "metadata": {},
   "outputs": [],
   "source": [
    "def show_tfidf(tfidf, vocab, filename):\n",
    "    # [n_doc, n_vocab]\n",
    "    plt.imshow(tfidf, cmap=\"YlGn\", vmin=tfidf.min(), vmax=tfidf.max()) #热图\n",
    "    plt.xticks(np.arange(tfidf.shape[1]), vocab, fontsize=6, rotation=90)\n",
    "    plt.yticks(np.arange(tfidf.shape[0]), np.arange(1, tfidf.shape[0]+1), fontsize=6)\n",
    "    plt.tight_layout()\n",
    "    plt.savefig(\"%s.png\" % filename, format=\"png\", dpi=500)\n",
    "    plt.show()"
   ]
  },
  {
   "cell_type": "code",
   "execution_count": 4,
   "id": "4a0a8519",
   "metadata": {},
   "outputs": [
    {
     "data": {
      "image/png": "[encoded data removed]",
      "text/plain": [
       "<Figure size 640x480 with 1 Axes>"
      ]
     },
     "metadata": {},
     "output_type": "display_data"
    }
   ],
   "source": [
    "import matplotlib.pyplot as plt\n",
    "import numpy as np\n",
    "\n",
    "i2v = {i: v for v, i in vectorizer.vocabulary_.items()}\n",
    "dense_tfidf = tf_idf.todense()  #转换为矩阵\n",
    "show_tfidf(dense_tfidf, [i2v[i] for i in range(dense_tfidf.shape[1])], \"tfidf_sklearn_matrix\")"
   ]
  },
  {
   "cell_type": "code",
   "execution_count": null,
   "id": "e1e0a4f0",
   "metadata": {},
   "outputs": [],
   "source": [
    "import os\n",
    "path = os.getcwd()\n",
    "print(\"图片保存这里:\",path)"
   ]
  },
  {
   "cell_type": "markdown",
   "id": "18a33105",
   "metadata": {},
   "source": [
    "## 抽取关键词语"
   ]
  },
  {
   "cell_type": "markdown",
   "id": "3b92d57f",
   "metadata": {},
   "source": [
    "参考资料：https://github.com/fxsjy/jieba"
   ]
  },
  {
   "cell_type": "markdown",
   "id": "5de6ca9c",
   "metadata": {},
   "source": [
    "jieba.analyse.extract_tags(sentence, topK=20, withWeight=False, allowPOS=()) <br>\n",
    "sentence 为待提取的文本 <br>\n",
    "topK 为返回几个 TF/IDF 权重最大的关键词，默认值为 20 <br>\n",
    "withWeight 为是否一并返回关键词权重值，默认值为 False <br>\n",
    "allowPOS 仅包括指定词性的词，默认值为空，即不筛选 <br>"
   ]
  },
  {
   "cell_type": "code",
   "execution_count": 2,
   "id": "494a84f3",
   "metadata": {
    "scrolled": true
   },
   "outputs": [
    {
     "name": "stderr",
     "output_type": "stream",
     "text": [
      "Building prefix dict from the default dictionary ...\n",
      "Loading model from cache C:\\Users\\17888\\AppData\\Local\\Temp\\jieba.cache\n",
      "Loading model cost 0.872 seconds.\n",
      "Prefix dict has been built successfully.\n"
     ]
    }
   ],
   "source": [
    "from jieba import analyse\n",
    "text = \"英语四六级是每名大学生都要经历的一项考试，每当考试结束之后，英语四六级考试都会出现不少“神翻译”。甚至有些老师调侃说：本身大量判卷是很辛苦的事情，但是这些“惊喜”真的是“苦中作乐”。\"\n",
    "tags = analyse.extract_tags(text, topK=20, withWeight=False, allowPOS=())"
   ]
  },
  {
   "cell_type": "code",
   "execution_count": 3,
   "id": "ded9ccf3",
   "metadata": {},
   "outputs": [
    {
     "name": "stdout",
     "output_type": "stream",
     "text": [
      "['四六级', '考试', '英语', '判卷', '苦中作乐', '每名', '调侃', '惊喜', '每当', '辛苦', '大学生', '翻译', '一项', '老师', '经历', '本身', '真的', '结束', '不少', '大量']\n"
     ]
    }
   ],
   "source": [
    "print(tags)"
   ]
  },
  {
   "cell_type": "markdown",
   "id": "061d84e4",
   "metadata": {},
   "source": [
    "# 归一化问题"
   ]
  },
  {
   "cell_type": "markdown",
   "id": "e818fc5c",
   "metadata": {},
   "source": [
    "## 不归一"
   ]
  },
  {
   "cell_type": "code",
   "execution_count": 7,
   "id": "772c7206",
   "metadata": {},
   "outputs": [
    {
     "name": "stdout",
     "output_type": "stream",
     "text": [
      "['beijing', 'chinese', 'japan', 'macao', 'shanghai', 'tokyo']\n"
     ]
    },
    {
     "data": {
      "text/plain": [
       "[[1.916290731874155, 2.0, 0.0, 0.0, 0.0, 0.0],\n",
       " [0.0, 2.0, 0.0, 0.0, 1.916290731874155, 0.0],\n",
       " [0.0, 1.0, 0.0, 1.916290731874155, 0.0, 0.0],\n",
       " [0.0, 1.0, 1.916290731874155, 0.0, 0.0, 1.916290731874155]]"
      ]
     },
     "execution_count": 7,
     "metadata": {},
     "output_type": "execute_result"
    }
   ],
   "source": [
    "from sklearn.feature_extraction.text import TfidfVectorizer\n",
    "# 实例化tf实例\n",
    "tv = TfidfVectorizer(use_idf=True, smooth_idf=True, norm=None)\n",
    "# 输入训练集矩阵，每行表示一个文本\n",
    "train = [\"Chinese Beijing Chinese\",\n",
    "          \"Chinese Chinese Shanghai\",\n",
    "          \"Chinese Macao\",\n",
    "          \"Tokyo Japan Chinese\"]\n",
    "\n",
    "# 训练，构建词汇表以及词项idf值，并将输入文本列表转成VSM矩阵形式\n",
    "tv_fit = tv.fit_transform(train)\n",
    "# 查看一下构建的词汇表\n",
    "print(tv.get_feature_names())\n",
    "\n",
    "tv_fit.toarray().tolist()"
   ]
  },
  {
   "cell_type": "code",
   "execution_count": null,
   "id": "e8bc5b57",
   "metadata": {},
   "outputs": [],
   "source": [
    "tf = n\n",
    "idf = lg((D+1)/(d+1))+1\n",
    "tf*idf"
   ]
  },
  {
   "cell_type": "code",
   "execution_count": 9,
   "id": "3c1c18a6",
   "metadata": {},
   "outputs": [
    {
     "data": {
      "text/plain": [
       "0.4893126846476761"
      ]
     },
     "execution_count": 9,
     "metadata": {},
     "output_type": "execute_result"
    }
   ],
   "source": [
    "1.916290731874155/(1.916290731874155+2)"
   ]
  },
  {
   "cell_type": "markdown",
   "id": "73f034b9",
   "metadata": {},
   "source": [
    "## 归一化_方法1 "
   ]
  },
  {
   "cell_type": "code",
   "execution_count": 8,
   "id": "ce1a7e9a",
   "metadata": {},
   "outputs": [
    {
     "name": "stdout",
     "output_type": "stream",
     "text": [
      "['beijing', 'chinese', 'japan', 'macao', 'shanghai', 'tokyo']\n"
     ]
    },
    {
     "data": {
      "text/plain": [
       "[[0.4893126846476761, 0.5106873153523239, 0.0, 0.0, 0.0, 0.0],\n",
       " [0.0, 0.5106873153523239, 0.0, 0.0, 0.4893126846476761, 0.0],\n",
       " [0.0, 0.34290134007227385, 0.0, 0.6570986599277262, 0.0, 0.0],\n",
       " [0.0, 0.2069287413986741, 0.39653562930066294, 0.0, 0.0, 0.39653562930066294]]"
      ]
     },
     "execution_count": 8,
     "metadata": {},
     "output_type": "execute_result"
    }
   ],
   "source": [
    "from sklearn.feature_extraction.text import TfidfVectorizer\n",
    "tv = TfidfVectorizer(use_idf=True, smooth_idf=True,norm = 'l1')\n",
    "# 输入训练集矩阵，每行表示一个文本\n",
    "train = [\"Chinese Beijing Chinese\",\n",
    "          \"Chinese Chinese Shanghai\",\n",
    "          \"Chinese Macao\",\n",
    "          \"Tokyo Japan Chinese\"]\n",
    "\n",
    "# 训练，构建词汇表以及词项idf值，并将输入文本列表转成VSM矩阵形式\n",
    "tv_fit = tv.fit_transform(train)\n",
    "# 查看一下构建的词汇表\n",
    "print(tv.get_feature_names())\n",
    "\n",
    "# 查看输入文本列表的VSM矩阵\n",
    "tv_fit.toarray().tolist()"
   ]
  },
  {
   "cell_type": "markdown",
   "id": "c108dcee",
   "metadata": {},
   "source": [
    "## 归一化_方法2_默认的归一化方法"
   ]
  },
  {
   "cell_type": "code",
   "execution_count": 10,
   "id": "99a83015",
   "metadata": {},
   "outputs": [
    {
     "name": "stdout",
     "output_type": "stream",
     "text": [
      "['beijing', 'chinese', 'japan', 'macao', 'shanghai', 'tokyo']\n"
     ]
    },
    {
     "data": {
      "text/plain": [
       "[[0.6918346120039814, 0.7220560017292982, 0.0, 0.0, 0.0, 0.0],\n",
       " [0.0, 0.7220560017292982, 0.0, 0.0, 0.6918346120039814, 0.0],\n",
       " [0.0, 0.46263733109032296, 0.0, 0.8865476297873808, 0.0, 0.0],\n",
       " [0.0, 0.34618161159873423, 0.6633846138519129, 0.0, 0.0, 0.6633846138519129]]"
      ]
     },
     "execution_count": 10,
     "metadata": {},
     "output_type": "execute_result"
    }
   ],
   "source": [
    "tv = TfidfVectorizer(use_idf=True, smooth_idf=True,norm = 'l2')#\n",
    "# 输入训练集矩阵，每行表示一个文本\n",
    "train = [\"Chinese Beijing Chinese\",\n",
    "          \"Chinese Chinese Shanghai\",\n",
    "          \"Chinese Macao\",\n",
    "          \"Tokyo Japan Chinese\"]\n",
    "\n",
    "# 训练，构建词汇表以及词项idf值，并将输入文本列表转成VSM矩阵形式\n",
    "tv_fit = tv.fit_transform(train)\n",
    "# 查看一下构建的词汇表\n",
    "print(tv.get_feature_names())\n",
    "\n",
    "# 查看输入文本列表的VSM矩阵\n",
    "tv_fit.toarray().tolist()"
   ]
  },
  {
   "cell_type": "code",
   "execution_count": 11,
   "id": "417e4123",
   "metadata": {},
   "outputs": [
    {
     "data": {
      "text/plain": [
       "0.9999999999999998"
      ]
     },
     "execution_count": 11,
     "metadata": {},
     "output_type": "execute_result"
    }
   ],
   "source": [
    "0.6918346120039814*0.6918346120039814+0.7220560017292982*0.7220560017292982"
   ]
  },
  {
   "cell_type": "markdown",
   "id": "5c1a5d0e",
   "metadata": {},
   "source": [
    "## 传统归一化 "
   ]
  },
  {
   "cell_type": "code",
   "execution_count": 25,
   "id": "6cab555e",
   "metadata": {},
   "outputs": [],
   "source": [
    "from sklearn.feature_extraction.text import TfidfTransformer\n",
    "from sklearn.feature_extraction.text import CountVectorizer\n",
    "from sklearn.preprocessing import Normalizer\n",
    "vectorizer = CountVectorizer()  # 实例化\n",
    "transformer = TfidfTransformer(norm = None)\n",
    "#corpus = [\"我 来到 中国 旅游\", \"中国 欢迎 你\",\"我 喜欢 来到 中国 天安门\"]\n",
    "corpus = [\"Chinese Beijing Chinese\",\n",
    "          \"Chinese Chinese Shanghai\",\n",
    "          \"Chinese Macao\",\n",
    "          \"Tokyo Japan Chinese\"]"
   ]
  },
  {
   "cell_type": "code",
   "execution_count": 26,
   "id": "175887de",
   "metadata": {},
   "outputs": [
    {
     "name": "stdout",
     "output_type": "stream",
     "text": [
      "['beijing', 'chinese', 'japan', 'macao', 'shanghai', 'tokyo']\n",
      "[[1, 2, 0, 0, 0, 0], [0, 2, 0, 0, 1, 0], [0, 1, 0, 1, 0, 0], [0, 1, 1, 0, 0, 1]]\n"
     ]
    }
   ],
   "source": [
    "norm1 = Normalizer(norm='l1')\n",
    "a = vectorizer.fit_transform(corpus)\n",
    "print(vectorizer.get_feature_names())\n",
    "print(a.toarray().tolist())"
   ]
  },
  {
   "cell_type": "code",
   "execution_count": 17,
   "id": "477d6abe",
   "metadata": {},
   "outputs": [
    {
     "name": "stdout",
     "output_type": "stream",
     "text": [
      "[[0.3333333333333333, 0.6666666666666666, 0.0, 0.0, 0.0, 0.0], [0.0, 0.6666666666666666, 0.0, 0.0, 0.3333333333333333, 0.0], [0.0, 0.5, 0.0, 0.5, 0.0, 0.0], [0.0, 0.3333333333333333, 0.3333333333333333, 0.0, 0.0, 0.3333333333333333]]\n"
     ]
    }
   ],
   "source": [
    "a = norm1.fit_transform(a)\n",
    "print(a.toarray().tolist())"
   ]
  },
  {
   "cell_type": "code",
   "execution_count": 15,
   "id": "3d9c86d9",
   "metadata": {},
   "outputs": [
    {
     "name": "stdout",
     "output_type": "stream",
     "text": [
      "词典为：\n",
      "['beijing', 'chinese', 'japan', 'macao', 'shanghai', 'tokyo']\n",
      "归一化后的tf-idf值为：\n",
      "[0.638763577291385, 0.6666666666666666, 0.0, 0.0, 0.0, 0.0]\n",
      "[0.0, 0.6666666666666666, 0.0, 0.0, 0.638763577291385, 0.0]\n",
      "[0.0, 0.5, 0.0, 0.9581453659370776, 0.0, 0.0]\n",
      "[0.0, 0.3333333333333333, 0.638763577291385, 0.0, 0.0, 0.638763577291385]\n"
     ]
    }
   ],
   "source": [
    "result_list2 = transformer.fit_transform(a).toarray().tolist()\n",
    "word = vectorizer.get_feature_names()\n",
    "#print(transformer.get_params())\n",
    "print('词典为：')\n",
    "print(word)\n",
    "print('归一化后的tf-idf值为：')\n",
    "for weight in result_list2:\n",
    "    print(weight)"
   ]
  },
  {
   "cell_type": "code",
   "execution_count": null,
   "id": "b88b6a30",
   "metadata": {},
   "outputs": [],
   "source": [
    "tf = n/N\n",
    "idf = \n",
    "tf*idf"
   ]
  }
 ],
 "metadata": {
  "kernelspec": {
   "display_name": "Python 3 (ipykernel)",
   "language": "python",
   "name": "python3"
  },
  "language_info": {
   "codemirror_mode": {
    "name": "ipython",
    "version": 3
   },
   "file_extension": ".py",
   "mimetype": "text/x-python",
   "name": "python",
   "nbconvert_exporter": "python",
   "pygments_lexer": "ipython3",
   "version": "3.9.13"
  },
  "toc": {
   "base_numbering": 1,
   "nav_menu": {},
   "number_sections": true,
   "sideBar": true,
   "skip_h1_title": false,
   "title_cell": "Table of Contents",
   "title_sidebar": "Contents",
   "toc_cell": false,
   "toc_position": {},
   "toc_section_display": true,
   "toc_window_display": true
  }
 },
 "nbformat": 4,
 "nbformat_minor": 5
}
