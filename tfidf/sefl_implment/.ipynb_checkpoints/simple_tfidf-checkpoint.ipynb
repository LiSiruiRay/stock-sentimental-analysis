{
 "cells": [
  {
   "cell_type": "code",
   "execution_count": 62,
   "id": "eb7dc79e-77a7-4127-9dd0-a12f44c2cc9e",
   "metadata": {},
   "outputs": [],
   "source": [
    "import re\n",
    "import math"
   ]
  },
  {
   "cell_type": "code",
   "execution_count": 30,
   "id": "c2593459-de2f-432b-b44e-252ae4248374",
   "metadata": {},
   "outputs": [],
   "source": [
    "def get_doc():\n",
    "    result = []\n",
    "    docs = [\n",
    "        \"Mormonism is a religion practiced by millions around the world. And yet, many who are unfamiliar with it sometimes rely on vague stereotypes and pop culture references to define it. In reality, it’s a theologically complex religion with an unusual history. Here, we answer some of the most common questions about Mormonism, with context from religious experts and Mormon literature. Mormons believe in a Christian view of God and Jesus. \",\n",
    "        \"The Rangers forced a deciding game in their first-round series with the Devils, beating New Jersey, 5-2, in Game 6 Saturday night at Madison Square Garden. Mika Zibanejad, who had not scored in the series, tallied the goal that put the Rangers ahead for good in the second period. The Blueshirts, who switched up some attacking lines, also got goals from Chris Kreider (yes, again), Vladimir Tarasenko, Barclay Goodrow and Braden Schneider.\",\n",
    "        \"As the religious and cultural diversity of Michigan grows, some are hoping that the faiths of minority groups can be recognized with state holidays. To that end, a group of state representatives introduced this week four bills that would make holidays celebrated by Muslims, Hindus, Sikhs, East Asian Americans and others state holidays.\",\n",
    "        \"The Los Angeles Kings went down fighting against the Edmonton Oilers in Game 6 in a way that paralleled this exciting series overall. Los Angeles didn’t allow setbacks to leave it sagging for too long, rarely leaving Edmonton with a dull moment. Ultimately, the Oilers kept fighting back in their own right, outgunning the Kings 5-4 in Game 6 to notch a 4-2 series win.\",\n",
    "        \"In the West, the No. 1 Denver Nuggets eliminated the No. 8 Minnesota Timberwolves in five games to advance to the second round. Then, the No. 4 Phoenix Suns punched their ticket to play Denver after eliminating the No. 5-seeded Los Angeles Clippers, also in five games. The No. 2 Boston Celtics could've punched their ticket on Tuesday to face the No. 3 Sixers, but they blew a double-digit lead late at home to the No. 7-seeded Atlanta Hawks. \",\n",
    "        \"Some Muslim girls at the prestigious high school have objected to coed swimming classes and argue that the school should accommodate their beliefs. Some of the Muslim girls at Stuyvesant worried that coed classes would pit their academic aspirations against their religion. The school administration said there were issues with scheduling and potential problems with the Education Department’s gender inclusion guidelines.\",\n",
    "        \"U.S. Marine Corps veteran and author Phil Klay discussed at an April 18 event the interaction between theology, art and society in his three award-winning books — as well as the role of faith and humanity throughout his life. The Office of President John J. DeGioia and the Berkley Center for Religion, Peace & World Affairs, a teaching and research center committed to advancing peaceful cooperation, hosted the event. \",\n",
    "        \"Florida governor and US presidential hopeful Ron DeSantis has hailed Business Secretary Kemi Badenoch for her efforts to make sure “woke ideology” is not “corrupting British society”. The Florida governor met with Ms Badenoch, as well as Foreign Secretary James Cleverly, during a trip to Britain as he seeks to burnish his credentials ahead of a possible run against Donald Trump to be the Republican choice in the race for the White House.\",\n",
    "        \"Here’s a take: for all of the ups and downs during Mike Smith’s time with the Oilers, his overall numbers were often pretty good (sometimes really nice, like a .923 save percentage in 2020-21), particularly considering how affordable his contract was. It’s human nature to focus on the bigger memories. With Smith, puckhandling misadventures often stick in your mind. Although maybe it was just bad luck? Skinner’s stick appeared to break on that dreadful goal:\",\n",
    "        \"Is it significant that no one at Stuyvesant noticed that it stopped offering all-girls swim classes last year? Some students might have thought that the all-girls class wasn’t offered in the fall of their freshman year but that it would be available down the road. They probably thought they had time — students have until the end of their sophomore year to pass the swim test. Some Muslim students said they weren’t aware that the elimination of the all-girls class wasn’t a temporary thing.\",\n",
    "        \"A lot of the Muslim students were surprised. Some of them started to have conversations with their families about whether their parents would be comfortable with them taking a class alongside boys in a full-body swimsuit or whether they should push for an all-girls class. I think there was also a sense of disappointment. I think a lot of students had the expectation that Stuyvesant would accommodate their religion, and there was disappointment when they felt Stuyvesant had not.\",\n",
    "        \"Members of the Church of Jesus Christ of Latter-day Saints, the largest Mormon denomination, have requested people stop referring to church members as “Mormons.” However, Bowman says there is a distinct relationship between the two. Mormonism is a religious tradition with a number of denominations within it, but to equate the two erases these multiple other groups,” Bowman says. “There are three fairly large Mormon churches: The LDS based in Salt Lake City, the Fundamentalist Church of (Jesus Christ of) Latter-day Saints, which is the group associated with polygamy, and the Community of Christ. \",\n",
    "        \"The origins of Mormonism set it apart from other Christian traditions. The religion was founded by Joseph Smith in the 1820s in Palmira, a small town in upstate New York. Mormons believe Smith, confused about what denomination of Christianity to follow, received a vision from an angel named Moroni, who led Smith to a box containing a book inscribed on gold plates. The book was said to be written by ancient prophets who lived in the Americas, and Moroni asked Smith to translate the ancient text into English.\",\n",
    "        \"In the introduction to the Book of Mormon, Smith describes the text as “the most correct of any book on earth, and the keystone of our religion, and a man would get nearer to God by abiding by its precepts, than by any other book.” It was first published in English in 1830. In these formative years, Smith and some close associates also claimed to have been visited by other important biblical figures like John the Baptist and three apostles of Jesus, according to the LDS Church website. With this small group, Smith formed the first Mormon church.\",\n",
    "        \"The Book of Mormon assumes an alternative history to other Christian texts. Most notably, the text claims a strong presence of ancient Christianity and pre-Christianity in what is now the United States. According to the Book of Mormon, Jesus appeared in the Americas after his crucifixion in 33 AD and preached to a group of Nephites, descendants of ancient Israelites who traveled to the continent around 600 BC. One of these Nephites was the prophet Mormon, who would eventually write part of the Book of Mormon, later transcribed by Joseph Smith.\",\n",
    "    ]\n",
    "    for i in range(len(docs)):\n",
    "        clean_sentence = re.sub(r'[^\\w\\s]', '', docs[i])\n",
    "        clean_sentence = clean_sentence.lower()\n",
    "        result.append(clean_sentence.split())\n",
    "    return result"
   ]
  },
  {
   "cell_type": "code",
   "execution_count": 31,
   "id": "6ffb8643-b248-470a-9ba2-08a2abe9b5b2",
   "metadata": {},
   "outputs": [],
   "source": [
    "docs = get_doc()"
   ]
  },
  {
   "cell_type": "code",
   "execution_count": null,
   "id": "9d0d6f8d-2d56-4782-8a4b-cd193f5ccee5",
   "metadata": {},
   "outputs": [],
   "source": []
  },
  {
   "cell_type": "code",
   "execution_count": 51,
   "id": "6096264f-d16e-49f7-abb2-5a7daf034edf",
   "metadata": {},
   "outputs": [],
   "source": [
    "# used the simple way: number of times the word appears in a document devided by the total number of word in the corpus\n",
    "# n = number of times of a word in one document\n",
    "# N = the totally length of corpus\n",
    "# d = [[\"a\", \"a\", \"b\"], [\"c\", \"b\", \"b\"]], N = 6, n of \"a\" in d[0] = 2\n",
    "def tf(docs):\n",
    "    N = 0\n",
    "    tf_matrix = []\n",
    "    for p in docs:\n",
    "        N += len(p)\n",
    "    N = float(N)\n",
    "    # print(N)\n",
    "    for i in range(len(docs)):\n",
    "        tf_matrix.append(dict())\n",
    "        for w in docs[i]:\n",
    "            if w not in tf_matrix[i]:\n",
    "                tf_matrix[i][w] = 1.0 / N\n",
    "            else:\n",
    "                tf_matrix[i][w] += 1.0 / N\n",
    "    return tf_matrix"
   ]
  },
  {
   "cell_type": "code",
   "execution_count": 69,
   "id": "314c2122-e21d-43c9-89fd-4633c69efd9c",
   "metadata": {},
   "outputs": [],
   "source": [
    "def idf(docs):\n",
    "    N = float(len(docs))\n",
    "    print(\"second: \", N)\n",
    "    idf_matrix = {}\n",
    "    for i in range(len(docs)):\n",
    "        for w in docs[i]:\n",
    "            idf_matrix[w] = 0.0\n",
    "    for i in (docs):\n",
    "        for j, _ in idf_matrix.items():\n",
    "            if j in i:\n",
    "                idf_matrix[j] += 1.0\n",
    "    for i, _ in idf_matrix.items():\n",
    "        idf_matrix[i] = math.log((N + 1.0) / (idf_matrix[i] + 1)) + 1.0\n",
    "                                 \n",
    "    return idf_matrix"
   ]
  },
  {
   "cell_type": "code",
   "execution_count": 74,
   "id": "7566047e-c5f5-44bb-b165-66b009271915",
   "metadata": {},
   "outputs": [
    {
     "name": "stdout",
     "output_type": "stream",
     "text": [
      "100.0\n",
      "second:  15.0\n"
     ]
    }
   ],
   "source": [
    "result_tf = tf(docs)\n",
    "result_idf = idf(docs)"
   ]
  },
  {
   "cell_type": "code",
   "execution_count": 75,
   "id": "a43c3e2e-dad8-4ec7-8b6b-bdcebd15fa02",
   "metadata": {},
   "outputs": [
    {
     "data": {
      "text/plain": [
       "{'it': 1.9808292530117262,\n",
       " 'is': 1.9808292530117262,\n",
       " 'a': 1.9808292530117262,\n",
       " 'good': 2.386294361119891,\n",
       " 'day': 2.386294361119891,\n",
       " 'i': 1.4700036292457357,\n",
       " 'like': 1.9808292530117262,\n",
       " 'to': 2.6739764335716716,\n",
       " 'stay': 3.0794415416798357,\n",
       " 'here': 2.6739764335716716,\n",
       " 'am': 2.386294361119891,\n",
       " 'happy': 3.0794415416798357,\n",
       " 'be': 2.6739764335716716,\n",
       " 'bob': 2.386294361119891,\n",
       " 'sunny': 3.0794415416798357,\n",
       " 'today': 2.386294361119891,\n",
       " 'have': 3.0794415416798357,\n",
       " 'party': 3.0794415416798357,\n",
       " 'dog': 2.6739764335716716,\n",
       " 'and': 2.386294361119891,\n",
       " 'that': 3.0794415416798357,\n",
       " 'cat': 2.6739764335716716,\n",
       " 'there': 3.0794415416798357,\n",
       " 'are': 3.0794415416798357,\n",
       " 'on': 3.0794415416798357,\n",
       " 'the': 3.0794415416798357,\n",
       " 'tree': 3.0794415416798357,\n",
       " 'study': 3.0794415416798357,\n",
       " 'hard': 3.0794415416798357,\n",
       " 'this': 3.0794415416798357,\n",
       " 'morning': 3.0794415416798357,\n",
       " 'tomorrow': 3.0794415416798357,\n",
       " 'will': 3.0794415416798357,\n",
       " 'coffee': 2.6739764335716716,\n",
       " 'book': 3.0794415416798357,\n",
       " 'apple': 3.0794415416798357,\n",
       " 'do': 2.6739764335716716,\n",
       " 'not': 2.6739764335716716,\n",
       " 'kitty': 2.6739764335716716,\n",
       " 'care': 3.0794415416798357,\n",
       " 'who': 3.0794415416798357,\n",
       " 'but': 3.0794415416798357,\n",
       " 'time': 3.0794415416798357,\n",
       " 'bring': 3.0794415416798357,\n",
       " 'your': 3.0794415416798357,\n",
       " 'cup': 3.0794415416798357}"
      ]
     },
     "execution_count": 75,
     "metadata": {},
     "output_type": "execute_result"
    }
   ],
   "source": [
    "result_idf"
   ]
  },
  {
   "cell_type": "code",
   "execution_count": 77,
   "id": "00945665-1f38-4160-9344-0fcc31134bcc",
   "metadata": {},
   "outputs": [],
   "source": [
    "def get_tf_idf(result_tf, result_idf):\n",
    "    tf_idf_matrix = []\n",
    "    for t in range(len(result_tf)):\n",
    "        sentence = result_tf[t]\n",
    "        tf_idf_matrix.append(dict())\n",
    "        for m, n in sentence.items():\n",
    "            # if m not in tf_idf_matrix[t]:\n",
    "            tf_idf_matrix[t][m] = sentence[m] * result_idf[m]\n",
    "            # i[m] = i[m] * result_idf[m]\n",
    "    return tf_idf_matrix"
   ]
  },
  {
   "cell_type": "code",
   "execution_count": 78,
   "id": "0267cde9-852e-4ce4-9a78-0009c1966854",
   "metadata": {},
   "outputs": [],
   "source": [
    "tf_idf_matrix = get_tf_idf(result_tf, result_idf)"
   ]
  },
  {
   "cell_type": "code",
   "execution_count": 79,
   "id": "9e8abd17-a0d6-4c44-b4ed-cffc68fde271",
   "metadata": {},
   "outputs": [
    {
     "data": {
      "text/plain": [
       "[{'it': 0.01980829253011726,\n",
       "  'is': 0.01980829253011726,\n",
       "  'a': 0.01980829253011726,\n",
       "  'good': 0.02386294361119891,\n",
       "  'day': 0.02386294361119891,\n",
       "  'i': 0.014700036292457357,\n",
       "  'like': 0.01980829253011726,\n",
       "  'to': 0.026739764335716718,\n",
       "  'stay': 0.03079441541679836,\n",
       "  'here': 0.026739764335716718},\n",
       " {'i': 0.014700036292457357,\n",
       "  'am': 0.02386294361119891,\n",
       "  'happy': 0.03079441541679836,\n",
       "  'to': 0.026739764335716718,\n",
       "  'be': 0.026739764335716718,\n",
       "  'here': 0.026739764335716718},\n",
       " {'i': 0.014700036292457357,\n",
       "  'am': 0.02386294361119891,\n",
       "  'bob': 0.02386294361119891},\n",
       " {'it': 0.01980829253011726,\n",
       "  'is': 0.01980829253011726,\n",
       "  'sunny': 0.03079441541679836,\n",
       "  'today': 0.02386294361119891},\n",
       " {'i': 0.014700036292457357,\n",
       "  'have': 0.03079441541679836,\n",
       "  'a': 0.01980829253011726,\n",
       "  'party': 0.03079441541679836,\n",
       "  'today': 0.02386294361119891},\n",
       " {'it': 0.01980829253011726,\n",
       "  'is': 0.03961658506023452,\n",
       "  'a': 0.03961658506023452,\n",
       "  'dog': 0.026739764335716718,\n",
       "  'and': 0.02386294361119891,\n",
       "  'that': 0.03079441541679836,\n",
       "  'cat': 0.026739764335716718},\n",
       " {'there': 0.03079441541679836,\n",
       "  'are': 0.03079441541679836,\n",
       "  'dog': 0.026739764335716718,\n",
       "  'and': 0.02386294361119891,\n",
       "  'cat': 0.026739764335716718,\n",
       "  'on': 0.03079441541679836,\n",
       "  'the': 0.03079441541679836,\n",
       "  'tree': 0.03079441541679836},\n",
       " {'i': 0.014700036292457357,\n",
       "  'study': 0.03079441541679836,\n",
       "  'hard': 0.03079441541679836,\n",
       "  'this': 0.03079441541679836,\n",
       "  'morning': 0.03079441541679836},\n",
       " {'today': 0.02386294361119891,\n",
       "  'is': 0.01980829253011726,\n",
       "  'a': 0.01980829253011726,\n",
       "  'good': 0.02386294361119891,\n",
       "  'day': 0.02386294361119891},\n",
       " {'tomorrow': 0.03079441541679836,\n",
       "  'will': 0.03079441541679836,\n",
       "  'be': 0.026739764335716718,\n",
       "  'a': 0.01980829253011726,\n",
       "  'good': 0.02386294361119891,\n",
       "  'day': 0.02386294361119891},\n",
       " {'i': 0.04410010887737207,\n",
       "  'like': 0.05942487759035178,\n",
       "  'coffee': 0.026739764335716718,\n",
       "  'book': 0.03079441541679836,\n",
       "  'and': 0.02386294361119891,\n",
       "  'apple': 0.03079441541679836},\n",
       " {'i': 0.014700036292457357,\n",
       "  'do': 0.026739764335716718,\n",
       "  'not': 0.026739764335716718,\n",
       "  'like': 0.01980829253011726,\n",
       "  'it': 0.01980829253011726},\n",
       " {'i': 0.029400072584914713,\n",
       "  'am': 0.02386294361119891,\n",
       "  'kitty': 0.026739764335716718,\n",
       "  'like': 0.01980829253011726,\n",
       "  'bob': 0.02386294361119891},\n",
       " {'i': 0.029400072584914713,\n",
       "  'do': 0.026739764335716718,\n",
       "  'not': 0.026739764335716718,\n",
       "  'care': 0.03079441541679836,\n",
       "  'who': 0.03079441541679836,\n",
       "  'like': 0.03961658506023452,\n",
       "  'bob': 0.02386294361119891,\n",
       "  'but': 0.03079441541679836,\n",
       "  'kitty': 0.026739764335716718},\n",
       " {'it': 0.01980829253011726,\n",
       "  'is': 0.01980829253011726,\n",
       "  'coffee': 0.026739764335716718,\n",
       "  'time': 0.03079441541679836,\n",
       "  'bring': 0.03079441541679836,\n",
       "  'your': 0.03079441541679836,\n",
       "  'cup': 0.03079441541679836}]"
      ]
     },
     "execution_count": 79,
     "metadata": {},
     "output_type": "execute_result"
    }
   ],
   "source": [
    "tf_idf_matrix"
   ]
  }
 ],
 "metadata": {
  "kernelspec": {
   "display_name": "Python 3 (ipykernel)",
   "language": "python",
   "name": "python3"
  },
  "language_info": {
   "codemirror_mode": {
    "name": "ipython",
    "version": 3
   },
   "file_extension": ".py",
   "mimetype": "text/x-python",
   "name": "python",
   "nbconvert_exporter": "python",
   "pygments_lexer": "ipython3",
   "version": "3.9.13"
  }
 },
 "nbformat": 4,
 "nbformat_minor": 5
}
