{
 "cells": [
  {
   "cell_type": "code",
   "execution_count": 3,
   "id": "5cbdf614-8df4-4cd5-a89a-7da1f471cec4",
   "metadata": {},
   "outputs": [],
   "source": [
    "from GoogleNews import GoogleNews\n",
    "googlenews = GoogleNews()\n",
    "googlenews.search('Tesla')"
   ]
  },
  {
   "cell_type": "code",
   "execution_count": 4,
   "id": "33d51ce5-b84b-41da-9e08-b517d556771f",
   "metadata": {},
   "outputs": [
    {
     "name": "stdout",
     "output_type": "stream",
     "text": [
      "[{'title': \"If You Invested $10,000 In Microsoft, Apple, Amazon And Tesla When The Companies Went Public, Here's How\", 'media': 'Benzinga', 'date': '2 hours ago', 'datetime': datetime.datetime(2023, 3, 2, 18, 16, 25, 492778), 'desc': 'The dawn of the 21st century brought with it the start of the tech revolution, and a handful of companies have been at its forefront.', 'link': 'https://www.benzinga.com/news/23/03/31184131/if-you-invested-10-000-in-microsoft-apple-amazon-and-tesla-when-the-companies-went-public-heres-how', 'img': 'data:image/gif;base64,R0lGODlhAQABAIAAAP///////yH5BAEKAAEALAAAAAABAAEAAAICTAEAOw=='}, {'title': 'Here’s Our First Look At Tesla’s Retro-Futuristic Diner And Drive-In Theater Charging Station', 'media': 'Carscoops', 'date': '2 hours ago', 'datetime': datetime.datetime(2023, 3, 2, 18, 16, 25, 501231), 'desc': \"During Tesla's first annual Investor Day, which lasted over four hours, the company shared a few interesting details about its future plans.\", 'link': 'https://www.carscoops.com/2023/03/heres-our-first-look-at-teslas-retro-futuristic-diner-and-drive-in-theater-charging-station/', 'img': 'data:image/gif;base64,R0lGODlhAQABAIAAAP///////yH5BAEKAAEALAAAAAABAAEAAAICTAEAOw=='}, {'title': 'Tesla Superchargers are already attracting electric motorcycles', 'media': 'Teslarati', 'date': '2 hours ago', 'datetime': datetime.datetime(2023, 3, 2, 18, 16, 25, 509288), 'desc': \"An Energica Experia electric motorcycle has been spotted charging at a Tesla Supercharger, following the network's opening to other vehicles.\", 'link': 'https://www.teslarati.com/tesla-supercharger-charge-electric-motorcycle/', 'img': 'data:image/gif;base64,R0lGODlhAQABAIAAAP///////yH5BAEKAAEALAAAAAABAAEAAAICTAEAOw=='}, {'title': 'Tesla’s growth ambition comes with a $175 billion price tag', 'media': 'Fox Business', 'date': '2 hours ago', 'datetime': datetime.datetime(2023, 3, 2, 18, 16, 25, 516477), 'desc': \"Tesla plans to go from 1.3 million to 20 million cars per year at a $150 billion cost, according to Elon Musk's 'master plan' outlined during the EV maker's...\", 'link': 'https://www.foxbusiness.com/technology/teslas-growth-ambition-comes-with-175-billion-price-tag', 'img': 'data:image/gif;base64,R0lGODlhAQABAIAAAP///////yH5BAEKAAEALAAAAAABAAEAAAICTAEAOw=='}, {'title': 'Three biggest takeaways from today — Costco, Nordstrom earnings, Tesla investor day', 'media': 'Yahoo Finance', 'date': '3 hours ago', 'datetime': datetime.datetime(2023, 3, 2, 17, 16, 25, 523683), 'desc': \"Yahoo Finance Live's Seana Smith and Dave Briggs break down some of the day's top stories. View comments. More Related Videos. Yahoo Finance Video. Tesla's...\", 'link': 'https://finance.yahoo.com/video/three-biggest-takeaways-today-costco-220347047.html', 'img': 'data:image/gif;base64,R0lGODlhAQABAIAAAP///////yH5BAEKAAEALAAAAAABAAEAAAICTAEAOw=='}, {'title': \"Tesla Wins Big at Annual Awards; Dethrones Ford for 'Overall Loyalty' and Wins 'Most Improved'\", 'media': 'Not a Tesla App', 'date': '3 hours ago', 'datetime': datetime.datetime(2023, 3, 2, 17, 16, 25, 530490), 'desc': \"Tesla secures seven awards at S&P Global Mobility's Automotive Loyalty Awards, including 'Overall Loyalty to Make', dethroning Ford for the first time in 12...\", 'link': 'https://www.notateslaapp.com/news/1231/tesla-wins-big-at-annual-awards-dethrones-ford-for-overall-loyalty-and-wins-most-improved', 'img': 'data:image/gif;base64,R0lGODlhAQABAIAAAP///////yH5BAEKAAEALAAAAAABAAEAAAICTAEAOw=='}, {'title': 'How to Charge Your Non-Tesla EV at a Tesla Supercharger', 'media': 'CNET', 'date': '3 hours ago', 'datetime': datetime.datetime(2023, 3, 2, 17, 16, 25, 537519), 'desc': 'Tesla has promised to make at least 3500 charging stations available to all electric vehicles by the end of 2024.', 'link': 'https://www.cnet.com/roadshow/news/how-to-charge-your-non-tesla-ev-at-a-tesla-supercharger/', 'img': 'data:image/gif;base64,R0lGODlhAQABAIAAAP///////yH5BAEKAAEALAAAAAABAAEAAAICTAEAOw=='}, {'title': \"Dow Jones Rallies As Tesla Dives, Leads 'Race To The Bottom'; Warren Buffett Stock Craters\", 'media': \"Investor's Business Daily\", 'date': '3 hours ago', 'datetime': datetime.datetime(2023, 3, 2, 17, 16, 25, 545091), 'desc': 'The Dow Jones rallied. Tesla stock took a dive after its investors day event. A Warren Buffett stock fell while Silvergate stock sunk.', 'link': 'https://www.investors.com/market-trend/stock-market-today/dow-jones-gains-tesla-stock-dives-leads-race-to-the-bottom-warren-buffett-stock-craters-elon-musk/', 'img': 'data:image/gif;base64,R0lGODlhAQABAIAAAP///////yH5BAEKAAEALAAAAAABAAEAAAICTAEAOw=='}, {'title': 'Semiconductor Stocks: Tesla Comments Sink Silicon Carbide Chipmakers', 'media': \"Investor's Business Daily\", 'date': '3 hours ago', 'datetime': datetime.datetime(2023, 3, 2, 17, 16, 25, 551913), 'desc': 'Silicon carbide semiconductor stocks fell after Tesla said it plans to reduce the amount of SiC chips it uses. Tesla stock also fell.', 'link': 'https://www.investors.com/news/technology/semiconductor-stocks-tesla-comments-sink-silicon-carbide-chipmakers/', 'img': 'data:image/gif;base64,R0lGODlhAQABAIAAAP///////yH5BAEKAAEALAAAAAABAAEAAAICTAEAOw=='}, {'title': 'Tesla, Silvergate, Salesforce, Okta, Wolfspeed, and More Stock Market Movers', 'media': \"Barron's\", 'date': '3 hours ago', 'datetime': datetime.datetime(2023, 3, 2, 17, 16, 25, 559760), 'desc': \"Tesla plans to build its fifth assembly plant in Monterrey, Mexico, which will produce the company's next-generation vehicle, Salesforce issues a strong...\", 'link': 'https://www.barrons.com/articles/stock-market-movers-b927784e', 'img': 'data:image/gif;base64,R0lGODlhAQABAIAAAP///////yH5BAEKAAEALAAAAAABAAEAAAICTAEAOw=='}]\n"
     ]
    }
   ],
   "source": [
    "result = googlenews.result();\n",
    "print(result)"
   ]
  },
  {
   "cell_type": "code",
   "execution_count": 5,
   "id": "758592b7-1186-43e7-9c57-0fff123bfc21",
   "metadata": {},
   "outputs": [
    {
     "name": "stdout",
     "output_type": "stream",
     "text": [
      "<class 'list'>\n"
     ]
    }
   ],
   "source": [
    "print(type(result))"
   ]
  },
  {
   "cell_type": "code",
   "execution_count": 6,
   "id": "e5f9e680",
   "metadata": {},
   "outputs": [
    {
     "name": "stdout",
     "output_type": "stream",
     "text": [
      "{'title': \"If You Invested $10,000 In Microsoft, Apple, Amazon And Tesla When The Companies Went Public, Here's How\", 'media': 'Benzinga', 'date': '2 hours ago', 'datetime': datetime.datetime(2023, 3, 2, 18, 16, 25, 492778), 'desc': 'The dawn of the 21st century brought with it the start of the tech revolution, and a handful of companies have been at its forefront.', 'link': 'https://www.benzinga.com/news/23/03/31184131/if-you-invested-10-000-in-microsoft-apple-amazon-and-tesla-when-the-companies-went-public-heres-how', 'img': 'data:image/gif;base64,R0lGODlhAQABAIAAAP///////yH5BAEKAAEALAAAAAABAAEAAAICTAEAOw=='}\n"
     ]
    }
   ],
   "source": [
    "print(result[0])"
   ]
  },
  {
   "cell_type": "code",
   "execution_count": 9,
   "id": "5cd66b8a",
   "metadata": {},
   "outputs": [],
   "source": [
    "testurl = result[0][\"link\"]"
   ]
  },
  {
   "cell_type": "code",
   "execution_count": 19,
   "id": "a1205390",
   "metadata": {},
   "outputs": [
    {
     "name": "stdout",
     "output_type": "stream",
     "text": [
      "https://www.benzinga.com/news/23/03/31184131/if-you-invested-10-000-in-microsoft-apple-amazon-and-tesla-when-the-companies-went-public-heres-how\n"
     ]
    }
   ],
   "source": [
    "print(testurl)"
   ]
  },
  {
   "cell_type": "code",
   "execution_count": 20,
   "id": "237ec1a8",
   "metadata": {},
   "outputs": [
    {
     "name": "stdout",
     "output_type": "stream",
     "text": [
      "<class 'str'>\n"
     ]
    }
   ],
   "source": [
    "print(type(testurl))"
   ]
  },
  {
   "cell_type": "code",
   "execution_count": null,
   "id": "ba70d1a5",
   "metadata": {},
   "outputs": [],
   "source": []
  },
  {
   "cell_type": "code",
   "execution_count": 8,
   "id": "afae8c66",
   "metadata": {},
   "outputs": [],
   "source": [
    "from newspaper import Article"
   ]
  },
  {
   "cell_type": "code",
   "execution_count": 22,
   "id": "f2fefc22",
   "metadata": {},
   "outputs": [
    {
     "name": "stdout",
     "output_type": "stream",
     "text": [
      "https://www.benzinga.com/news/23/03/31184131/if-you-invested-10-000-in-microsoft-apple-amazon-and-tesla-when-the-companies-went-public-heres-how\n",
      "The dawn of the 21st century brought with it the start of the tech revolution, and a handful of companies have been at its forefront.\n",
      "\n",
      "Microsoft Corp TSLA, Apple Inc AAPL, Amazon.com, Inc. AMZN and Tesla Inc TSLA have all experienced tremendous growth since their respective initial public offerings, and their collective success has made them some of the most valuable companies in the world.\n",
      "\n",
      "But what if you had invested $10,000 in each of these companies when they first went public? To find out, let’s take a brief look at the journey each of these companies has taken since going public.\n",
      "\n",
      "See Also: Costco Q2 Earnings Highlights: Revenue Beat, EPS Beat, February Sales And More\n",
      "\n",
      "Microsoft was the first of the four companies to go public, with its initial public offering on March 13, 1986. Back then, the company was valued at $61 million and investors could buy shares for a pre-split price of $21 each. If you had invested $10,000 in Microsoft at the time, your investment would now be worth more than $9 million.\n",
      "\n",
      "was the first of the four companies to go public, with its initial public offering on March 13, 1986. Back then, the company was valued at $61 million and investors could buy shares for a pre-split price of $21 each. If you had invested $10,000 in Microsoft at the time, your investment would now be worth more than $9 million. Apple went public in December 1980 with its IPO priced at a pre-split price of $22 per share. A $10,000 invested in Apple back then would now be worth more than $1.6 million.\n",
      "\n",
      "went public in December 1980 with its IPO priced at a pre-split price of $22 per share. A $10,000 invested in Apple back then would now be worth more than $1.6 million. Amazon was the third of the four companies to go public, with its IPO in May 1997. At the time, the company was valued at $438 million and shares were priced at a pre-split price of $18 each. If you had invested $10,000 in Amazon back then, your investment would now be worth more than $2.2 million.\n",
      "\n",
      "was the third of the four companies to go public, with its IPO in May 1997. At the time, the company was valued at $438 million and shares were priced at a pre-split price of $18 each. If you had invested $10,000 in Amazon back then, your investment would now be worth more than $2.2 million. Tesla went public in June of 2010 with its IPO priced at a pre-split price of $17 per share. A $10,000 invested in Tesla back then would now be worth more than $2.9 million.\n",
      "\n",
      "The growth these companies have experienced since their respective initial public offerings is truly remarkable, and it’s no wonder why they have become some of the most valuable companies in the world.\n",
      "\n",
      "Had you invested $10,000 in each of these companies when they first went public, your investment would now be worth more than $15 million.\n",
      "\n",
      "While it’s impossible to predict what the future holds, the success of these four companies is certainly a testament to the potential of the tech industry.\n",
      "\n",
      "Photo: Shutterstock\n"
     ]
    }
   ],
   "source": [
    "article = Article(testurl)\n",
    "article.download()\n",
    "article.parse()\n",
    "print(testurl)\n",
    "print(article.text)"
   ]
  },
  {
   "cell_type": "code",
   "execution_count": 23,
   "id": "4c26974c",
   "metadata": {},
   "outputs": [
    {
     "name": "stdout",
     "output_type": "stream",
     "text": [
      "10\n"
     ]
    }
   ],
   "source": [
    "print(len(result))"
   ]
  },
  {
   "cell_type": "code",
   "execution_count": null,
   "id": "193951be",
   "metadata": {},
   "outputs": [],
   "source": []
  },
  {
   "cell_type": "code",
   "execution_count": null,
   "id": "ad3ee274",
   "metadata": {},
   "outputs": [],
   "source": []
  },
  {
   "cell_type": "code",
   "execution_count": null,
   "id": "21f0b9fc",
   "metadata": {},
   "outputs": [],
   "source": []
  },
  {
   "cell_type": "code",
   "execution_count": 17,
   "id": "b1284030",
   "metadata": {},
   "outputs": [
    {
     "name": "stdout",
     "output_type": "stream",
     "text": [
      "\n"
     ]
    }
   ],
   "source": [
    "print(article.text)"
   ]
  },
  {
   "cell_type": "code",
   "execution_count": null,
   "id": "0fdfbdda",
   "metadata": {},
   "outputs": [],
   "source": []
  },
  {
   "cell_type": "code",
   "execution_count": null,
   "id": "e2b600cb",
   "metadata": {},
   "outputs": [],
   "source": []
  },
  {
   "cell_type": "code",
   "execution_count": null,
   "id": "9295f484",
   "metadata": {},
   "outputs": [],
   "source": []
  },
  {
   "cell_type": "code",
   "execution_count": null,
   "id": "a273184a",
   "metadata": {},
   "outputs": [],
   "source": []
  },
  {
   "cell_type": "code",
   "execution_count": null,
   "id": "3b57f191",
   "metadata": {},
   "outputs": [],
   "source": []
  },
  {
   "cell_type": "code",
   "execution_count": null,
   "id": "ad099adb",
   "metadata": {},
   "outputs": [],
   "source": []
  }
 ],
 "metadata": {
  "kernelspec": {
   "display_name": "base",
   "language": "python",
   "name": "python3"
  },
  "language_info": {
   "codemirror_mode": {
    "name": "ipython",
    "version": 3
   },
   "file_extension": ".py",
   "mimetype": "text/x-python",
   "name": "python",
   "nbconvert_exporter": "python",
   "pygments_lexer": "ipython3",
   "version": "3.9.13"
  },
  "vscode": {
   "interpreter": {
    "hash": "559242db46694297bf45a1f2c01a5213977929cff2ae79b7d8b9cb3d733fb43f"
   }
  }
 },
 "nbformat": 4,
 "nbformat_minor": 5
}
