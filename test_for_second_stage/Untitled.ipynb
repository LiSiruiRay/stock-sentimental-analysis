{
 "cells": [
  {
   "cell_type": "code",
   "execution_count": 11,
   "id": "0c3bb04d-4d63-4d72-b6f5-7125687cc4f8",
   "metadata": {},
   "outputs": [],
   "source": [
    "import nltk"
   ]
  },
  {
   "cell_type": "code",
   "execution_count": 2,
   "id": "64f5a933-b093-4418-8df9-6ce6ef28be71",
   "metadata": {
    "tags": []
   },
   "outputs": [
    {
     "name": "stderr",
     "output_type": "stream",
     "text": [
      "1   HIToolbox                           0x00007ff82029a726 _ZN15MenuBarInstance22EnsureAutoShowObserverEv + 102\n",
      "2   HIToolbox                           0x00007ff82029a2b8 _ZN15MenuBarInstance14EnableAutoShowEv + 52\n",
      "3   HIToolbox                           0x00007ff82023e908 SetMenuBarObscured + 408\n",
      "4   HIToolbox                           0x00007ff82023e4ca _ZN13HIApplication15HandleActivatedEP14OpaqueEventRefhP15OpaqueWindowPtrh + 164\n",
      "5   HIToolbox                           0x00007ff820238996 _ZN13HIApplication13EventObserverEjP14OpaqueEventRefPv + 252\n",
      "6   HIToolbox                           0x00007ff820200bd2 _NotifyEventLoopObservers + 153\n",
      "7   HIToolbox                           0x00007ff8202383e6 AcquireEventFromQueue + 494\n",
      "8   HIToolbox                           0x00007ff8202273ec ReceiveNextEventCommon + 285\n",
      "9   HIToolbox                           0x00007ff8202272b3 _BlockUntilNextEventMatchingListInModeWithFilter + 70\n",
      "10  AppKit                              0x00007ff819424f33 _DPSNextEvent + 909\n",
      "11  AppKit                              0x00007ff819423db4 -[NSApplication(NSEvent) _nextEventMatchingEventMask:untilDate:inMode:dequeue:] + 1219\n",
      "12  libtk8.6.dylib                      0x0000000131ae11b2 TkMacOSXEventsCheckProc + 482\n",
      "13  libtcl8.6.dylib                     0x000000013155e33b Tcl_DoOneEvent + 347\n",
      "14  libtk8.6.dylib                      0x0000000131ad753e -[TKApplication(TKInit) applicationDidFinishLaunching:] + 206\n",
      "15  CoreFoundation                      0x00007ff8163956d6 __CFNOTIFICATIONCENTER_IS_CALLING_OUT_TO_AN_OBSERVER__ + 137\n",
      "16  CoreFoundation                      0x00007ff81642ecbc ___CFXRegistrationPost_block_invoke + 86\n",
      "17  CoreFoundation                      0x00007ff81642ec13 _CFXRegistrationPost + 534\n",
      "18  CoreFoundation                      0x00007ff816368e31 _CFXNotificationPost + 809\n",
      "19  Foundation                          0x00007ff8170ddf2c -[NSNotificationCenter postNotificationName:object:userInfo:] + 82\n",
      "20  AppKit                              0x00007ff81942cc74 -[NSApplication _postDidFinishNotification] + 305\n",
      "21  AppKit                              0x00007ff81942c9c6 -[NSApplication _sendFinishLaunchingNotification] + 208\n",
      "22  AppKit                              0x00007ff81942532f _DPSNextEvent + 1929\n",
      "23  AppKit                              0x00007ff819423db4 -[NSApplication(NSEvent) _nextEventMatchingEventMask:untilDate:inMode:dequeue:] + 1219\n",
      "24  libtk8.6.dylib                      0x0000000131ae0efe TkMacOSXEventsSetupProc + 190\n",
      "25  libtcl8.6.dylib                     0x000000013155e2ea Tcl_DoOneEvent + 266\n",
      "26  libtk8.6.dylib                      0x0000000131ad7ba6 TkpInit + 390\n",
      "27  libtk8.6.dylib                      0x0000000131a2b7d0 Initialize + 2656\n",
      "28  _tkinter.cpython-39-darwin.so       0x00000001303c264b Tcl_AppInit + 91\n",
      "29  _tkinter.cpython-39-darwin.so       0x00000001303c2339 Tkapp_New + 585\n",
      "30  _tkinter.cpython-39-darwin.so       0x00000001303c20de _tkinter_create_impl + 222\n",
      "31  _tkinter.cpython-39-darwin.so       0x00000001303c1be6 _tkinter_create + 182\n",
      "32  python3.9                           0x0000000102cd0565 cfunction_vectorcall_FASTCALL + 85\n",
      "33  python3.9                           0x0000000102da1b3e call_function + 174\n",
      "34  python3.9                           0x0000000102d9a988 _PyEval_EvalFrameDefault + 27608\n",
      "35  python3.9                           0x0000000102d926e9 _PyEval_EvalCode + 489\n",
      "36  python3.9                           0x0000000102c749bc _PyFunction_Vectorcall + 236\n",
      "37  python3.9                           0x0000000102c73fcd _PyObject_FastCallDictTstate + 109\n",
      "38  python3.9                           0x0000000102cfa540 slot_tp_init + 192\n",
      "39  python3.9                           0x0000000102d054f0 type_call + 272\n",
      "40  python3.9                           0x0000000102c73d36 _PyObject_MakeTpCall + 134\n",
      "41  python3.9                           0x0000000102da1bc7 call_function + 311\n",
      "42  python3.9                           0x0000000102d99c1d _PyEval_EvalFrameDefault + 24173\n",
      "43  python3.9                           0x0000000102d926e9 _PyEval_EvalCode + 489\n",
      "44  python3.9                           0x0000000102c749bc _PyFunction_Vectorcall + 236\n",
      "45  python3.9                           0x0000000102c73fcd _PyObject_FastCallDictTstate + 109\n",
      "46  python3.9                           0x0000000102cfa540 slot_tp_init + 192\n",
      "47  python3.9                           0x0000000102d054f0 type_call + 272\n",
      "48  python3.9                           0x0000000102c73d36 _PyObject_MakeTpCall + 134\n",
      "49  python3.9                           0x0000000102da1bc7 call_function + 311\n",
      "50  python3.9                           0x0000000102d99c1d _PyEval_EvalFrameDefault + 24173\n",
      "51  python3.9                           0x0000000102c74a7b function_code_fastcall + 139\n",
      "52  python3.9                           0x0000000102da1b3e call_function + 174\n",
      "53  python3.9                           0x0000000102d9576a _PyEval_EvalFrameDefault + 6586\n",
      "54  python3.9                           0x0000000102d926e9 _PyEval_EvalCode + 489\n",
      "55  python3.9                           0x0000000102c749bc _PyFunction_Vectorcall + 236\n",
      "56  python3.9                           0x0000000102c77cde method_vectorcall + 158\n",
      "57  python3.9                           0x0000000102da1b3e call_function + 174\n",
      "58  python3.9                           0x0000000102d9a988 _PyEval_EvalFrameDefault + 27608\n",
      "59  python3.9                           0x0000000102d926e9 _PyEval_EvalCode + 489\n",
      "60  python3.9                           0x0000000102d8cc99 builtin_exec + 377\n",
      "61  python3.9                           0x0000000102cd0565 cfunction_vectorcall_FASTCALL + 85\n",
      "62  python3.9                           0x0000000102da1b3e call_function + 174\n",
      "63  python3.9                           0x0000000102d99c1d _PyEval_EvalFrameDefault + 24173\n",
      "64  python3.9                           0x0000000102c8db7f gen_send_ex + 175\n",
      "65  python3.9                           0x0000000102d9bcf3 _PyEval_EvalFrameDefault + 32579\n",
      "66  python3.9                           0x0000000102c8db7f gen_send_ex + 175\n",
      "67  python3.9                           0x0000000102d9bcf3 _PyEval_EvalFrameDefault + 32579\n",
      "68  python3.9                           0x0000000102c8db7f gen_send_ex + 175\n",
      "69  python3.9                           0x0000000102c82817 method_vectorcall_O + 103\n",
      "70  python3.9                           0x0000000102da1b3e call_function + 174\n",
      "71  python3.9                           0x0000000102d9576a _PyEval_EvalFrameDefault + 6586\n",
      "72  python3.9                           0x0000000102c74a7b function_code_fastcall + 139\n",
      "73  python3.9                           0x0000000102da1b3e call_function + 174\n",
      "74  python3.9                           0x0000000102d99c1d _PyEval_EvalFrameDefault + 24173\n",
      "75  python3.9                           0x0000000102c74a7b function_code_fastcall + 139\n",
      "76  python3.9                           0x0000000102da1b3e call_function + 174\n",
      "77  python3.9                           0x0000000102d9576a _PyEval_EvalFrameDefault + 6586\n",
      "78  python3.9                           0x0000000102d926e9 _PyEval_EvalCode + 489\n",
      "79  python3.9                           0x0000000102c749bc _PyFunction_Vectorcall + 236\n",
      "80  python3.9                           0x0000000102c77cde method_vectorcall + 158\n",
      "81  python3.9                           0x0000000102c74633 PyVectorcall_Call + 163\n",
      "82  python3.9                           0x0000000102d994a7 _PyEval_EvalFrameDefault + 22263\n",
      "83  python3.9                           0x0000000102d926e9 _PyEval_EvalCode + 489\n",
      "84  python3.9                           0x0000000102c749bc _PyFunction_Vectorcall + 236\n",
      "85  python3.9                           0x0000000102c77cde method_vectorcall + 158\n",
      "86  python3.9                           0x0000000102da1b3e call_function + 174\n",
      "87  python3.9                           0x0000000102d9535c _PyEval_EvalFrameDefault + 5548\n",
      "88  python3.9                           0x0000000102c8db7f gen_send_ex + 175\n",
      "89  python3.9                           0x0000000102d9bcf3 _PyEval_EvalFrameDefault + 32579\n",
      "90  python3.9                           0x0000000102c8db7f gen_send_ex + 175\n",
      "91  python3.9                           0x0000000102d9bcf3 _PyEval_EvalFrameDefault + 32579\n",
      "92  python3.9                           0x0000000102c8db7f gen_send_ex + 175\n",
      "93  python3.9                           0x0000000102d9bcf3 _PyEval_EvalFrameDefault + 32579\n",
      "94  python3.9                           0x0000000102c8db7f gen_send_ex + 175\n",
      "95  python3.9                           0x0000000102d9bcf3 _PyEval_EvalFrameDefault + 32579\n",
      "96  python3.9                           0x0000000102c8db7f gen_send_ex + 175\n",
      "97  _asyncio.cpython-39-darwin.so       0x000000010be4697a task_step_impl + 442\n",
      "98  _asyncio.cpython-39-darwin.so       0x000000010be4672e task_step + 62\n",
      "99  _asyncio.cpython-39-darwin.so       0x000000010be465c8 task_wakeup + 104\n",
      "100 _asyncio.cpython-39-darwin.so       0x000000010be464bd TaskWakeupMethWrapper_call + 109\n",
      "101 python3.9                           0x0000000102c73d36 _PyObject_MakeTpCall + 134\n",
      "102 python3.9                           0x0000000102dbd321 context_run + 81\n",
      "103 python3.9                           0x0000000102cd049c cfunction_vectorcall_FASTCALL_KEYWORDS + 76\n",
      "104 python3.9                           0x0000000102d994a7 _PyEval_EvalFrameDefault + 22263\n",
      "105 python3.9                           0x0000000102c74a7b function_code_fastcall + 139\n",
      "106 python3.9                           0x0000000102da1b3e call_function + 174\n",
      "107 python3.9                           0x0000000102d9576a _PyEval_EvalFrameDefault + 6586\n",
      "108 python3.9                           0x0000000102c74a7b function_code_fastcall + 139\n",
      "109 python3.9                           0x0000000102da1b3e call_function + 174\n",
      "110 python3.9                           0x0000000102d9576a _PyEval_EvalFrameDefault + 6586\n",
      "111 python3.9                           0x0000000102c74a7b function_code_fastcall + 139\n",
      "112 python3.9                           0x0000000102da1b3e call_function + 174\n",
      "113 python3.9                           0x0000000102d9576a _PyEval_EvalFrameDefault + 6586\n",
      "114 python3.9                           0x0000000102c74a7b function_code_fastcall + 139\n",
      "115 python3.9                           0x0000000102da1b3e call_function + 174\n",
      "116 python3.9                           0x0000000102d9576a _PyEval_EvalFrameDefault + 6586\n",
      "117 python3.9                           0x0000000102c74a7b function_code_fastcall + 139\n",
      "118 python3.9                           0x0000000102da1b3e call_function + 174\n",
      "119 python3.9                           0x0000000102d9576a _PyEval_EvalFrameDefault + 6586\n",
      "120 python3.9                           0x0000000102d926e9 _PyEval_EvalCode + 489\n",
      "121 python3.9                           0x0000000102c749bc _PyFunction_Vectorcall + 236\n",
      "122 python3.9                           0x0000000102c77cde method_vectorcall + 158\n",
      "123 python3.9                           0x0000000102da1b3e call_function + 174\n",
      "124 python3.9                           0x0000000102d9a988 _PyEval_EvalFrameDefault + 27608\n",
      "125 python3.9                           0x0000000102d926e9 _PyEval_EvalCode + 489\n",
      "126 python3.9                           0x0000000102d8cc99 builtin_exec + 377\n",
      "127 python3.9                           0x0000000102cd0565 cfunction_vectorcall_FASTCALL + 85\n",
      "128 python3.9                           0x0000000102da1b3e call_function + 174\n",
      "129 python3.9                           0x0000000102d99c1d _PyEval_EvalFrameDefault + 24173\n",
      "130 python3.9                           0x0000000102d926e9 _PyEval_EvalCode + 489\n",
      "131 python3.9                           0x0000000102c749bc _PyFunction_Vectorcall + 236\n",
      "132 python3.9                           0x0000000102da1b3e call_function + 174\n",
      "133 python3.9                           0x0000000102d99c1d _PyEval_EvalFrameDefault + 24173\n",
      "134 python3.9                           0x0000000102d926e9 _PyEval_EvalCode + 489\n",
      "135 python3.9                           0x0000000102c749bc _PyFunction_Vectorcall + 236\n",
      "136 python3.9                           0x0000000102e25ec2 pymain_run_module + 258\n",
      "137 python3.9                           0x0000000102e25781 pymain_run_python + 241\n",
      "138 python3.9                           0x0000000102e25645 Py_RunMain + 37\n",
      "139 python3.9                           0x0000000102e26d10 pymain_main + 64\n",
      "140 python3.9                           0x0000000102c0b238 main + 56\n",
      "141 dyld                                0x00000002032da310 start + 2432\n"
     ]
    },
    {
     "name": "stdout",
     "output_type": "stream",
     "text": [
      "showing info https://raw.githubusercontent.com/nltk/nltk_data/gh-pages/index.xml\n"
     ]
    },
    {
     "data": {
      "text/plain": [
       "True"
      ]
     },
     "execution_count": 2,
     "metadata": {},
     "output_type": "execute_result"
    }
   ],
   "source": [
    "nltk.download()"
   ]
  },
  {
   "cell_type": "code",
   "execution_count": 12,
   "id": "1719d656-e2f0-43f3-a754-c8c4d89b67e9",
   "metadata": {},
   "outputs": [],
   "source": [
    "from nltk.corpus import stopwords"
   ]
  },
  {
   "cell_type": "code",
   "execution_count": 14,
   "id": "3310c8cf-30e1-4dfa-9757-e4b5628dd194",
   "metadata": {},
   "outputs": [],
   "source": [
    "stop_words = stopwords.words('english')"
   ]
  },
  {
   "cell_type": "code",
   "execution_count": 15,
   "id": "9a6df8f6-60f9-4883-8ad4-b7d1f5e994bc",
   "metadata": {},
   "outputs": [
    {
     "name": "stdout",
     "output_type": "stream",
     "text": [
      "['i', 'me', 'my', 'myself', 'we', 'our', 'ours', 'ourselves', 'you', \"you're\", \"you've\", \"you'll\", \"you'd\", 'your', 'yours', 'yourself', 'yourselves', 'he', 'him', 'his', 'himself', 'she', \"she's\", 'her', 'hers', 'herself', 'it', \"it's\", 'its', 'itself', 'they', 'them', 'their', 'theirs', 'themselves', 'what', 'which', 'who', 'whom', 'this', 'that', \"that'll\", 'these', 'those', 'am', 'is', 'are', 'was', 'were', 'be', 'been', 'being', 'have', 'has', 'had', 'having', 'do', 'does', 'did', 'doing', 'a', 'an', 'the', 'and', 'but', 'if', 'or', 'because', 'as', 'until', 'while', 'of', 'at', 'by', 'for', 'with', 'about', 'against', 'between', 'into', 'through', 'during', 'before', 'after', 'above', 'below', 'to', 'from', 'up', 'down', 'in', 'out', 'on', 'off', 'over', 'under', 'again', 'further', 'then', 'once', 'here', 'there', 'when', 'where', 'why', 'how', 'all', 'any', 'both', 'each', 'few', 'more', 'most', 'other', 'some', 'such', 'no', 'nor', 'not', 'only', 'own', 'same', 'so', 'than', 'too', 'very', 's', 't', 'can', 'will', 'just', 'don', \"don't\", 'should', \"should've\", 'now', 'd', 'll', 'm', 'o', 're', 've', 'y', 'ain', 'aren', \"aren't\", 'couldn', \"couldn't\", 'didn', \"didn't\", 'doesn', \"doesn't\", 'hadn', \"hadn't\", 'hasn', \"hasn't\", 'haven', \"haven't\", 'isn', \"isn't\", 'ma', 'mightn', \"mightn't\", 'mustn', \"mustn't\", 'needn', \"needn't\", 'shan', \"shan't\", 'shouldn', \"shouldn't\", 'wasn', \"wasn't\", 'weren', \"weren't\", 'won', \"won't\", 'wouldn', \"wouldn't\"]\n"
     ]
    }
   ],
   "source": [
    "print(stop_words)"
   ]
  }
 ],
 "metadata": {
  "kernelspec": {
   "display_name": "Python 3 (ipykernel)",
   "language": "python",
   "name": "python3"
  },
  "language_info": {
   "codemirror_mode": {
    "name": "ipython",
    "version": 3
   },
   "file_extension": ".py",
   "mimetype": "text/x-python",
   "name": "python",
   "nbconvert_exporter": "python",
   "pygments_lexer": "ipython3",
   "version": "3.9.13"
  }
 },
 "nbformat": 4,
 "nbformat_minor": 5
}
